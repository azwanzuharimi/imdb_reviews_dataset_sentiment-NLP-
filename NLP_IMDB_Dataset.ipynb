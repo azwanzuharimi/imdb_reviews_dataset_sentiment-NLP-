{
  "cells": [
    {
      "cell_type": "markdown",
      "source": [
        "Machine Learning application of NLP sentiment analysis using IMDB review dataset.\n",
        "\n",
        "Data source: [50k IMDB Review Dataset](https://www.kaggle.com/lakshmi25npathi/imdb-dataset-of-50k-movie-reviews)\n",
        "\n",
        "The objective of this project is to produce a machine learning model.\n",
        "Input: review text\n",
        "Output: Positive (1) or negative (0) sentiment\n"
      ],
      "metadata": {
        "id": "r20rdJYgcIqu"
      },
      "id": "r20rdJYgcIqu"
    },
    {
      "cell_type": "markdown",
      "source": [
        "Flow:\n",
        "\n",
        "\n",
        "*   Load data and library imports\n",
        "*   Clean of text data using regular expressions and NLTK corpus stopword\n",
        "*   EDA using python (top words/data distribution)\n",
        "*   Create a machine learning pipeline using the following processes\n",
        "> 1. TfIdfVectorizer (to convert text into numeric values for machine-readable\n",
        "> 2. Naive Bayes Classifier\n",
        "\n",
        "There are 2 machine learning pipelines:\n",
        "*   Baseline model\n",
        "*   GridSearchCV model (to find best parameter for Naive Bayes classifier, with alpha values from 0 to 10)\n",
        "\n",
        "\n",
        "Result:\n",
        "- The Naive Bayes model having alpha parameter of 1.0 performs the best\n",
        "\n",
        "\n",
        "\n",
        "\n",
        "\n",
        "\n",
        "\n",
        "\n"
      ],
      "metadata": {
        "id": "tWQ7IFjWc-6s"
      },
      "id": "tWQ7IFjWc-6s"
    },
    {
      "cell_type": "code",
      "execution_count": 2,
      "id": "9f4cf735",
      "metadata": {
        "id": "9f4cf735"
      },
      "outputs": [],
      "source": [
        "import re\n",
        "import string\n",
        "\n",
        "import pandas as pd\n",
        "import numpy as np\n",
        "import matplotlib.pyplot as plt\n",
        "import seaborn as sns\n",
        "\n",
        "import tensorflow as tf"
      ]
    },
    {
      "cell_type": "code",
      "execution_count": 3,
      "id": "1cbe9e21",
      "metadata": {
        "id": "1cbe9e21"
      },
      "outputs": [],
      "source": [
        "# %config ipcompleter.useJedi = False"
      ]
    },
    {
      "cell_type": "code",
      "execution_count": 4,
      "id": "54c355c2",
      "metadata": {
        "colab": {
          "base_uri": "https://localhost:8080/"
        },
        "id": "54c355c2",
        "outputId": "97052400-f0ab-4a60-d669-7fa13e5c908e"
      },
      "outputs": [
        {
          "output_type": "stream",
          "name": "stdout",
          "text": [
            "Num GPUs: 1\n"
          ]
        }
      ],
      "source": [
        "physical_devices = tf.config.list_physical_devices('GPU')\n",
        "print(\"Num GPUs:\", len(physical_devices))"
      ]
    },
    {
      "cell_type": "code",
      "execution_count": 5,
      "id": "35090ac1",
      "metadata": {
        "colab": {
          "base_uri": "https://localhost:8080/"
        },
        "id": "35090ac1",
        "outputId": "b1912d96-4ed2-4a0c-c41a-51a363fcce4a"
      },
      "outputs": [
        {
          "output_type": "stream",
          "name": "stdout",
          "text": [
            "Mounted at /content/drive\n"
          ]
        }
      ],
      "source": [
        "from google.colab import drive\n",
        "drive.mount('/content/drive')"
      ]
    },
    {
      "cell_type": "code",
      "execution_count": 6,
      "id": "2a97402c",
      "metadata": {
        "colab": {
          "base_uri": "https://localhost:8080/",
          "height": 363
        },
        "id": "2a97402c",
        "outputId": "5e004d2d-aa5a-4548-bfa1-b5b96d9353d2"
      },
      "outputs": [
        {
          "output_type": "execute_result",
          "data": {
            "text/html": [
              "\n",
              "  <div id=\"df-efe88568-6c88-4b85-bd5f-84f79386f4c5\">\n",
              "    <div class=\"colab-df-container\">\n",
              "      <div>\n",
              "<style scoped>\n",
              "    .dataframe tbody tr th:only-of-type {\n",
              "        vertical-align: middle;\n",
              "    }\n",
              "\n",
              "    .dataframe tbody tr th {\n",
              "        vertical-align: top;\n",
              "    }\n",
              "\n",
              "    .dataframe thead th {\n",
              "        text-align: right;\n",
              "    }\n",
              "</style>\n",
              "<table border=\"1\" class=\"dataframe\">\n",
              "  <thead>\n",
              "    <tr style=\"text-align: right;\">\n",
              "      <th></th>\n",
              "      <th>review</th>\n",
              "      <th>sentiment</th>\n",
              "    </tr>\n",
              "  </thead>\n",
              "  <tbody>\n",
              "    <tr>\n",
              "      <th>32603</th>\n",
              "      <td>Wow what a great premise for a film : Set it a...</td>\n",
              "      <td>negative</td>\n",
              "    </tr>\n",
              "    <tr>\n",
              "      <th>29962</th>\n",
              "      <td>\"Amazing Grace\" has a languid feel to it as it...</td>\n",
              "      <td>positive</td>\n",
              "    </tr>\n",
              "    <tr>\n",
              "      <th>41943</th>\n",
              "      <td>This movie is a perfect example of a film that...</td>\n",
              "      <td>positive</td>\n",
              "    </tr>\n",
              "    <tr>\n",
              "      <th>6251</th>\n",
              "      <td>Since watching the trailer in \"The Little Merm...</td>\n",
              "      <td>positive</td>\n",
              "    </tr>\n",
              "    <tr>\n",
              "      <th>9742</th>\n",
              "      <td>The Five Deadly Venoms is easily the most memo...</td>\n",
              "      <td>positive</td>\n",
              "    </tr>\n",
              "    <tr>\n",
              "      <th>16859</th>\n",
              "      <td>Interesting to read comments by viewers regard...</td>\n",
              "      <td>negative</td>\n",
              "    </tr>\n",
              "    <tr>\n",
              "      <th>1646</th>\n",
              "      <td>I saw this \"movie\" partly because of the sheer...</td>\n",
              "      <td>negative</td>\n",
              "    </tr>\n",
              "    <tr>\n",
              "      <th>28280</th>\n",
              "      <td>I've seen this movie more than once. It isn't ...</td>\n",
              "      <td>positive</td>\n",
              "    </tr>\n",
              "    <tr>\n",
              "      <th>35628</th>\n",
              "      <td>I had to compare two versions of Hamlet for my...</td>\n",
              "      <td>negative</td>\n",
              "    </tr>\n",
              "    <tr>\n",
              "      <th>24970</th>\n",
              "      <td>It's a refreshing breath of air when a movie a...</td>\n",
              "      <td>positive</td>\n",
              "    </tr>\n",
              "  </tbody>\n",
              "</table>\n",
              "</div>\n",
              "      <button class=\"colab-df-convert\" onclick=\"convertToInteractive('df-efe88568-6c88-4b85-bd5f-84f79386f4c5')\"\n",
              "              title=\"Convert this dataframe to an interactive table.\"\n",
              "              style=\"display:none;\">\n",
              "        \n",
              "  <svg xmlns=\"http://www.w3.org/2000/svg\" height=\"24px\"viewBox=\"0 0 24 24\"\n",
              "       width=\"24px\">\n",
              "    <path d=\"M0 0h24v24H0V0z\" fill=\"none\"/>\n",
              "    <path d=\"M18.56 5.44l.94 2.06.94-2.06 2.06-.94-2.06-.94-.94-2.06-.94 2.06-2.06.94zm-11 1L8.5 8.5l.94-2.06 2.06-.94-2.06-.94L8.5 2.5l-.94 2.06-2.06.94zm10 10l.94 2.06.94-2.06 2.06-.94-2.06-.94-.94-2.06-.94 2.06-2.06.94z\"/><path d=\"M17.41 7.96l-1.37-1.37c-.4-.4-.92-.59-1.43-.59-.52 0-1.04.2-1.43.59L10.3 9.45l-7.72 7.72c-.78.78-.78 2.05 0 2.83L4 21.41c.39.39.9.59 1.41.59.51 0 1.02-.2 1.41-.59l7.78-7.78 2.81-2.81c.8-.78.8-2.07 0-2.86zM5.41 20L4 18.59l7.72-7.72 1.47 1.35L5.41 20z\"/>\n",
              "  </svg>\n",
              "      </button>\n",
              "      \n",
              "  <style>\n",
              "    .colab-df-container {\n",
              "      display:flex;\n",
              "      flex-wrap:wrap;\n",
              "      gap: 12px;\n",
              "    }\n",
              "\n",
              "    .colab-df-convert {\n",
              "      background-color: #E8F0FE;\n",
              "      border: none;\n",
              "      border-radius: 50%;\n",
              "      cursor: pointer;\n",
              "      display: none;\n",
              "      fill: #1967D2;\n",
              "      height: 32px;\n",
              "      padding: 0 0 0 0;\n",
              "      width: 32px;\n",
              "    }\n",
              "\n",
              "    .colab-df-convert:hover {\n",
              "      background-color: #E2EBFA;\n",
              "      box-shadow: 0px 1px 2px rgba(60, 64, 67, 0.3), 0px 1px 3px 1px rgba(60, 64, 67, 0.15);\n",
              "      fill: #174EA6;\n",
              "    }\n",
              "\n",
              "    [theme=dark] .colab-df-convert {\n",
              "      background-color: #3B4455;\n",
              "      fill: #D2E3FC;\n",
              "    }\n",
              "\n",
              "    [theme=dark] .colab-df-convert:hover {\n",
              "      background-color: #434B5C;\n",
              "      box-shadow: 0px 1px 3px 1px rgba(0, 0, 0, 0.15);\n",
              "      filter: drop-shadow(0px 1px 2px rgba(0, 0, 0, 0.3));\n",
              "      fill: #FFFFFF;\n",
              "    }\n",
              "  </style>\n",
              "\n",
              "      <script>\n",
              "        const buttonEl =\n",
              "          document.querySelector('#df-efe88568-6c88-4b85-bd5f-84f79386f4c5 button.colab-df-convert');\n",
              "        buttonEl.style.display =\n",
              "          google.colab.kernel.accessAllowed ? 'block' : 'none';\n",
              "\n",
              "        async function convertToInteractive(key) {\n",
              "          const element = document.querySelector('#df-efe88568-6c88-4b85-bd5f-84f79386f4c5');\n",
              "          const dataTable =\n",
              "            await google.colab.kernel.invokeFunction('convertToInteractive',\n",
              "                                                     [key], {});\n",
              "          if (!dataTable) return;\n",
              "\n",
              "          const docLinkHtml = 'Like what you see? Visit the ' +\n",
              "            '<a target=\"_blank\" href=https://colab.research.google.com/notebooks/data_table.ipynb>data table notebook</a>'\n",
              "            + ' to learn more about interactive tables.';\n",
              "          element.innerHTML = '';\n",
              "          dataTable['output_type'] = 'display_data';\n",
              "          await google.colab.output.renderOutput(dataTable, element);\n",
              "          const docLink = document.createElement('div');\n",
              "          docLink.innerHTML = docLinkHtml;\n",
              "          element.appendChild(docLink);\n",
              "        }\n",
              "      </script>\n",
              "    </div>\n",
              "  </div>\n",
              "  "
            ],
            "text/plain": [
              "                                                  review sentiment\n",
              "32603  Wow what a great premise for a film : Set it a...  negative\n",
              "29962  \"Amazing Grace\" has a languid feel to it as it...  positive\n",
              "41943  This movie is a perfect example of a film that...  positive\n",
              "6251   Since watching the trailer in \"The Little Merm...  positive\n",
              "9742   The Five Deadly Venoms is easily the most memo...  positive\n",
              "16859  Interesting to read comments by viewers regard...  negative\n",
              "1646   I saw this \"movie\" partly because of the sheer...  negative\n",
              "28280  I've seen this movie more than once. It isn't ...  positive\n",
              "35628  I had to compare two versions of Hamlet for my...  negative\n",
              "24970  It's a refreshing breath of air when a movie a...  positive"
            ]
          },
          "metadata": {},
          "execution_count": 6
        }
      ],
      "source": [
        "file = '/content/drive/MyDrive/Datasets/IMDB_Reviews/IMDB Dataset.csv'\n",
        "df = pd.read_csv(file)\n",
        "df.sample(10)"
      ]
    },
    {
      "cell_type": "code",
      "execution_count": 7,
      "id": "36bf1c80",
      "metadata": {
        "id": "36bf1c80"
      },
      "outputs": [],
      "source": [
        "import nltk\n",
        "from nltk.corpus import stopwords\n",
        "from nltk.stem import WordNetLemmatizer\n",
        "from sklearn.feature_extraction.text import TfidfVectorizer\n",
        "from wordcloud import WordCloud\n",
        "from collections import Counter\n",
        "from sklearn.svm import SVC\n",
        "from sklearn.naive_bayes import MultinomialNB\n",
        "from sklearn.ensemble import AdaBoostClassifier\n",
        "from sklearn.model_selection import train_test_split\n",
        "import string\n",
        "from sklearn.feature_extraction import text"
      ]
    },
    {
      "cell_type": "code",
      "source": [
        "nltk.download('stopwords')\n",
        "nltk.download('wordnet')"
      ],
      "metadata": {
        "id": "IusrGcTTuL92",
        "colab": {
          "base_uri": "https://localhost:8080/"
        },
        "outputId": "18b6e237-e3e6-4c97-d641-22ba491535d2"
      },
      "id": "IusrGcTTuL92",
      "execution_count": 8,
      "outputs": [
        {
          "output_type": "stream",
          "name": "stdout",
          "text": [
            "[nltk_data] Downloading package stopwords to /root/nltk_data...\n",
            "[nltk_data]   Unzipping corpora/stopwords.zip.\n",
            "[nltk_data] Downloading package wordnet to /root/nltk_data...\n",
            "[nltk_data]   Unzipping corpora/wordnet.zip.\n"
          ]
        },
        {
          "output_type": "execute_result",
          "data": {
            "text/plain": [
              "True"
            ]
          },
          "metadata": {},
          "execution_count": 8
        }
      ]
    },
    {
      "cell_type": "code",
      "source": [
        "stopw = list(text.ENGLISH_STOP_WORDS) + ' '.join(string.punctuation).split() + stopwords.words('english')"
      ],
      "metadata": {
        "id": "8IcEaaCwqp1H"
      },
      "id": "8IcEaaCwqp1H",
      "execution_count": 9,
      "outputs": []
    },
    {
      "cell_type": "code",
      "source": [
        "def clean_text(text):\n",
        "  text = re.sub(r'\\<.*?\\>|\\.{2,}|\\(|\\)', \"\" , text) \n",
        "  text = re.sub(r'[^\\w\\s]+', '', text)\n",
        "  text = [a.lower() for a in text.split() if a.lower() not in stopw]\n",
        "  text = \" \".join(text)\n",
        "  return text"
      ],
      "metadata": {
        "id": "X2MSVj_BoFHG"
      },
      "id": "X2MSVj_BoFHG",
      "execution_count": 10,
      "outputs": []
    },
    {
      "cell_type": "code",
      "execution_count": 11,
      "id": "fd8a50d5",
      "metadata": {
        "id": "fd8a50d5"
      },
      "outputs": [],
      "source": [
        "df['clean'] = df.review.apply(clean_text)"
      ]
    },
    {
      "cell_type": "code",
      "source": [
        "df['len_ori'] = [len(a) for a in df.review]\n",
        "df['len_clean'] = [len(a) for a in df.clean]"
      ],
      "metadata": {
        "id": "DKJGPesQv8sU"
      },
      "id": "DKJGPesQv8sU",
      "execution_count": 12,
      "outputs": []
    },
    {
      "cell_type": "code",
      "execution_count": 13,
      "id": "f7641741",
      "metadata": {
        "colab": {
          "base_uri": "https://localhost:8080/",
          "height": 198
        },
        "id": "f7641741",
        "outputId": "3dab9561-da19-4dfa-d8c4-cda30336d07e"
      },
      "outputs": [
        {
          "output_type": "display_data",
          "data": {
            "image/png": "[encoded data removed]",
            "text/plain": [
              "<Figure size 432x288 with 1 Axes>"
            ]
          },
          "metadata": {
            "needs_background": "light"
          }
        }
      ],
      "source": [
        "wc = WordCloud(max_words=100).generate(' '.join(df.clean))\n",
        "plt.figure()\n",
        "plt.imshow(wc, interpolation=\"bilinear\")\n",
        "plt.axis(\"off\")\n",
        "plt.show()"
      ]
    },
    {
      "cell_type": "code",
      "source": [
        "# list_of_words = [a.split() for a in df.clean]\n",
        "counter = Counter(\" \".join(df.clean).split(' ')).most_common(20)\n",
        "x_com = [x for x,y in counter]\n",
        "y_com = [y for x,y in counter]\n",
        "plt.bar(x_com, y_com)\n",
        "plt.title('Top 10 Common Words')\n",
        "plt.xticks(rotation=45);"
      ],
      "metadata": {
        "colab": {
          "base_uri": "https://localhost:8080/",
          "height": 316
        },
        "id": "MI9iJi_1ye2E",
        "outputId": "71016712-0572-4fa7-eb66-885e6f65c4ca"
      },
      "id": "MI9iJi_1ye2E",
      "execution_count": 14,
      "outputs": [
        {
          "output_type": "display_data",
          "data": {
            "image/png": "[encoded data removed]",
            "text/plain": [
              "<Figure size 432x288 with 1 Axes>"
            ]
          },
          "metadata": {
            "needs_background": "light"
          }
        }
      ]
    },
    {
      "cell_type": "code",
      "source": [
        "sns.countplot(x=df.sentiment)\n",
        "plt.title('Sentiment Label Count');"
      ],
      "metadata": {
        "colab": {
          "base_uri": "https://localhost:8080/",
          "height": 295
        },
        "id": "I9WCcZan3LCb",
        "outputId": "d863e6f9-cdb3-4750-8114-8934c1bac13c"
      },
      "id": "I9WCcZan3LCb",
      "execution_count": 15,
      "outputs": [
        {
          "output_type": "display_data",
          "data": {
            "image/png": "[encoded data removed]",
            "text/plain": [
              "<Figure size 432x288 with 1 Axes>"
            ]
          },
          "metadata": {
            "needs_background": "light"
          }
        }
      ]
    },
    {
      "cell_type": "code",
      "source": [
        "(len(df)/500)"
      ],
      "metadata": {
        "colab": {
          "base_uri": "https://localhost:8080/"
        },
        "id": "wE3q-KAa4MlK",
        "outputId": "fc081b9a-e065-4901-aaf1-70491705fde4"
      },
      "id": "wE3q-KAa4MlK",
      "execution_count": 16,
      "outputs": [
        {
          "output_type": "execute_result",
          "data": {
            "text/plain": [
              "100.0"
            ]
          },
          "metadata": {},
          "execution_count": 16
        }
      ]
    },
    {
      "cell_type": "code",
      "source": [
        "plt.hist(df.len_ori, bins = int(len(df)/1000), alpha = 0.5, color='g', label='ori length')\n",
        "plt.hist(df.len_clean, bins = int(len(df)/1000), alpha= 0.5, color='r', label='clean length')\n",
        "plt.legend();"
      ],
      "metadata": {
        "colab": {
          "base_uri": "https://localhost:8080/",
          "height": 265
        },
        "id": "JifXTfNC3rEt",
        "outputId": "11cf4958-521f-4fe2-e7d3-a24c18cdd3af"
      },
      "id": "JifXTfNC3rEt",
      "execution_count": 17,
      "outputs": [
        {
          "output_type": "display_data",
          "data": {
            "image/png": "[encoded data removed]",
            "text/plain": [
              "<Figure size 432x288 with 1 Axes>"
            ]
          },
          "metadata": {
            "needs_background": "light"
          }
        }
      ]
    },
    {
      "cell_type": "code",
      "execution_count": 18,
      "id": "29de9c2e",
      "metadata": {
        "colab": {
          "base_uri": "https://localhost:8080/",
          "height": 206
        },
        "id": "29de9c2e",
        "outputId": "36e6d132-1d58-46bc-f801-344942594c77"
      },
      "outputs": [
        {
          "output_type": "execute_result",
          "data": {
            "text/html": [
              "\n",
              "  <div id=\"df-96226475-e394-46f1-9c07-c91ca16cec8b\">\n",
              "    <div class=\"colab-df-container\">\n",
              "      <div>\n",
              "<style scoped>\n",
              "    .dataframe tbody tr th:only-of-type {\n",
              "        vertical-align: middle;\n",
              "    }\n",
              "\n",
              "    .dataframe tbody tr th {\n",
              "        vertical-align: top;\n",
              "    }\n",
              "\n",
              "    .dataframe thead th {\n",
              "        text-align: right;\n",
              "    }\n",
              "</style>\n",
              "<table border=\"1\" class=\"dataframe\">\n",
              "  <thead>\n",
              "    <tr style=\"text-align: right;\">\n",
              "      <th></th>\n",
              "      <th>review</th>\n",
              "      <th>sentiment</th>\n",
              "      <th>clean</th>\n",
              "      <th>len_ori</th>\n",
              "      <th>len_clean</th>\n",
              "    </tr>\n",
              "  </thead>\n",
              "  <tbody>\n",
              "    <tr>\n",
              "      <th>0</th>\n",
              "      <td>One of the other reviewers has mentioned that ...</td>\n",
              "      <td>positive</td>\n",
              "      <td>reviewers mentioned watching 1 oz episode youl...</td>\n",
              "      <td>1761</td>\n",
              "      <td>1056</td>\n",
              "    </tr>\n",
              "    <tr>\n",
              "      <th>1</th>\n",
              "      <td>A wonderful little production. &lt;br /&gt;&lt;br /&gt;The...</td>\n",
              "      <td>positive</td>\n",
              "      <td>wonderful little production filming technique ...</td>\n",
              "      <td>998</td>\n",
              "      <td>605</td>\n",
              "    </tr>\n",
              "    <tr>\n",
              "      <th>2</th>\n",
              "      <td>I thought this was a wonderful way to spend ti...</td>\n",
              "      <td>positive</td>\n",
              "      <td>thought wonderful way spend time hot summer we...</td>\n",
              "      <td>926</td>\n",
              "      <td>540</td>\n",
              "    </tr>\n",
              "    <tr>\n",
              "      <th>3</th>\n",
              "      <td>Basically there's a family where a little boy ...</td>\n",
              "      <td>negative</td>\n",
              "      <td>basically theres family little boy jake thinks...</td>\n",
              "      <td>748</td>\n",
              "      <td>433</td>\n",
              "    </tr>\n",
              "    <tr>\n",
              "      <th>4</th>\n",
              "      <td>Petter Mattei's \"Love in the Time of Money\" is...</td>\n",
              "      <td>positive</td>\n",
              "      <td>petter matteis love time money visually stunni...</td>\n",
              "      <td>1317</td>\n",
              "      <td>786</td>\n",
              "    </tr>\n",
              "  </tbody>\n",
              "</table>\n",
              "</div>\n",
              "      <button class=\"colab-df-convert\" onclick=\"convertToInteractive('df-96226475-e394-46f1-9c07-c91ca16cec8b')\"\n",
              "              title=\"Convert this dataframe to an interactive table.\"\n",
              "              style=\"display:none;\">\n",
              "        \n",
              "  <svg xmlns=\"http://www.w3.org/2000/svg\" height=\"24px\"viewBox=\"0 0 24 24\"\n",
              "       width=\"24px\">\n",
              "    <path d=\"M0 0h24v24H0V0z\" fill=\"none\"/>\n",
              "    <path d=\"M18.56 5.44l.94 2.06.94-2.06 2.06-.94-2.06-.94-.94-2.06-.94 2.06-2.06.94zm-11 1L8.5 8.5l.94-2.06 2.06-.94-2.06-.94L8.5 2.5l-.94 2.06-2.06.94zm10 10l.94 2.06.94-2.06 2.06-.94-2.06-.94-.94-2.06-.94 2.06-2.06.94z\"/><path d=\"M17.41 7.96l-1.37-1.37c-.4-.4-.92-.59-1.43-.59-.52 0-1.04.2-1.43.59L10.3 9.45l-7.72 7.72c-.78.78-.78 2.05 0 2.83L4 21.41c.39.39.9.59 1.41.59.51 0 1.02-.2 1.41-.59l7.78-7.78 2.81-2.81c.8-.78.8-2.07 0-2.86zM5.41 20L4 18.59l7.72-7.72 1.47 1.35L5.41 20z\"/>\n",
              "  </svg>\n",
              "      </button>\n",
              "      \n",
              "  <style>\n",
              "    .colab-df-container {\n",
              "      display:flex;\n",
              "      flex-wrap:wrap;\n",
              "      gap: 12px;\n",
              "    }\n",
              "\n",
              "    .colab-df-convert {\n",
              "      background-color: #E8F0FE;\n",
              "      border: none;\n",
              "      border-radius: 50%;\n",
              "      cursor: pointer;\n",
              "      display: none;\n",
              "      fill: #1967D2;\n",
              "      height: 32px;\n",
              "      padding: 0 0 0 0;\n",
              "      width: 32px;\n",
              "    }\n",
              "\n",
              "    .colab-df-convert:hover {\n",
              "      background-color: #E2EBFA;\n",
              "      box-shadow: 0px 1px 2px rgba(60, 64, 67, 0.3), 0px 1px 3px 1px rgba(60, 64, 67, 0.15);\n",
              "      fill: #174EA6;\n",
              "    }\n",
              "\n",
              "    [theme=dark] .colab-df-convert {\n",
              "      background-color: #3B4455;\n",
              "      fill: #D2E3FC;\n",
              "    }\n",
              "\n",
              "    [theme=dark] .colab-df-convert:hover {\n",
              "      background-color: #434B5C;\n",
              "      box-shadow: 0px 1px 3px 1px rgba(0, 0, 0, 0.15);\n",
              "      filter: drop-shadow(0px 1px 2px rgba(0, 0, 0, 0.3));\n",
              "      fill: #FFFFFF;\n",
              "    }\n",
              "  </style>\n",
              "\n",
              "      <script>\n",
              "        const buttonEl =\n",
              "          document.querySelector('#df-96226475-e394-46f1-9c07-c91ca16cec8b button.colab-df-convert');\n",
              "        buttonEl.style.display =\n",
              "          google.colab.kernel.accessAllowed ? 'block' : 'none';\n",
              "\n",
              "        async function convertToInteractive(key) {\n",
              "          const element = document.querySelector('#df-96226475-e394-46f1-9c07-c91ca16cec8b');\n",
              "          const dataTable =\n",
              "            await google.colab.kernel.invokeFunction('convertToInteractive',\n",
              "                                                     [key], {});\n",
              "          if (!dataTable) return;\n",
              "\n",
              "          const docLinkHtml = 'Like what you see? Visit the ' +\n",
              "            '<a target=\"_blank\" href=https://colab.research.google.com/notebooks/data_table.ipynb>data table notebook</a>'\n",
              "            + ' to learn more about interactive tables.';\n",
              "          element.innerHTML = '';\n",
              "          dataTable['output_type'] = 'display_data';\n",
              "          await google.colab.output.renderOutput(dataTable, element);\n",
              "          const docLink = document.createElement('div');\n",
              "          docLink.innerHTML = docLinkHtml;\n",
              "          element.appendChild(docLink);\n",
              "        }\n",
              "      </script>\n",
              "    </div>\n",
              "  </div>\n",
              "  "
            ],
            "text/plain": [
              "                                              review  ... len_clean\n",
              "0  One of the other reviewers has mentioned that ...  ...      1056\n",
              "1  A wonderful little production. <br /><br />The...  ...       605\n",
              "2  I thought this was a wonderful way to spend ti...  ...       540\n",
              "3  Basically there's a family where a little boy ...  ...       433\n",
              "4  Petter Mattei's \"Love in the Time of Money\" is...  ...       786\n",
              "\n",
              "[5 rows x 5 columns]"
            ]
          },
          "metadata": {},
          "execution_count": 18
        }
      ],
      "source": [
        "df.head()"
      ]
    },
    {
      "cell_type": "code",
      "source": [
        "from sklearn.pipeline import make_pipeline, Pipeline\n",
        "from sklearn.metrics import confusion_matrix, ConfusionMatrixDisplay, precision_recall_curve, PrecisionRecallDisplay, auc, RocCurveDisplay, roc_curve, roc_auc_score, accuracy_score"
      ],
      "metadata": {
        "id": "N-9l03TzT9JX"
      },
      "id": "N-9l03TzT9JX",
      "execution_count": 19,
      "outputs": []
    },
    {
      "cell_type": "code",
      "source": [
        "X = df.clean\n",
        "y = df.sentiment.map({'positive':1, 'negative':0})"
      ],
      "metadata": {
        "id": "MTj6Jul1Wn4f"
      },
      "id": "MTj6Jul1Wn4f",
      "execution_count": 20,
      "outputs": []
    },
    {
      "cell_type": "code",
      "source": [
        "x_train, x_test, y_train, y_test = train_test_split(X, y, test_size=0.2)"
      ],
      "metadata": {
        "id": "g2rgePzRaXL4"
      },
      "id": "g2rgePzRaXL4",
      "execution_count": 21,
      "outputs": []
    },
    {
      "cell_type": "code",
      "source": [
        "def ml(preprocess=TfidfVectorizer(), model=MultinomialNB(), x=X, y=y):\n",
        "\n",
        "  x_train, x_test, y_train, y_test = train_test_split(X, y, test_size=0.2)\n",
        "\n",
        "  pipe = make_pipeline(preprocess, model)\n",
        "  pipe.fit(x_train, y_train)\n",
        "  y_predict = pipe.predict(x_test)\n",
        "\n",
        "  fig, ax = plt.subplots(3,1, figsize=(6,12))\n",
        "  \n",
        "  # ax = plt.subplot(311)\n",
        "  cm = confusion_matrix(y_test, y_predict, labels=pipe.classes_)\n",
        "  disp = ConfusionMatrixDisplay(confusion_matrix=cm, display_labels=pipe.classes_)\n",
        "  disp.plot(ax=ax[0])\n",
        "  ax[0].set_title('Confusion Matrix')\n",
        "  \n",
        "  # ax1 = plt.subplot(312)\n",
        "  precision, recall, _ = precision_recall_curve(y_test, y_predict)\n",
        "  disp1 = PrecisionRecallDisplay(precision=precision, recall=recall)\n",
        "  disp1.plot(ax=ax[1])\n",
        "  ax[1].set_title('Precision Recall Curve')\n",
        "\n",
        "  # ax2 = plt.subplot(313)\n",
        "  fpr, tpr, thresholds = roc_curve(y_test, y_predict)\n",
        "  roc_auc = auc(fpr, tpr)\n",
        "  disp2 = RocCurveDisplay(fpr=fpr, tpr=tpr, roc_auc=roc_auc, estimator_name='MultinomialNB')\n",
        "  ax[2].set_title(f'ROC AUC Score: {roc_auc_score(y_test, y_predict):.3f}')\n",
        "  disp2.plot(ax=ax[2])\n",
        "  plt.tight_layout()\n",
        "  plt.show()\n",
        "\n",
        "  print(f'Accuracy Score: {accuracy_score(y_test, y_predict):.3f}')\n",
        "\n",
        "  a = (y_predict, accuracy_score(y_test, y_predict))\n",
        "  return a\n"
      ],
      "metadata": {
        "id": "7IP7yfU8uoo6"
      },
      "id": "7IP7yfU8uoo6",
      "execution_count": 22,
      "outputs": []
    },
    {
      "cell_type": "code",
      "source": [
        "ml()"
      ],
      "metadata": {
        "colab": {
          "base_uri": "https://localhost:8080/",
          "height": 908
        },
        "id": "d6PjiWyCzLiS",
        "outputId": "22a3aa54-aba6-4605-c64b-b1e42aaeb3c0"
      },
      "id": "d6PjiWyCzLiS",
      "execution_count": 23,
      "outputs": [
        {
          "output_type": "display_data",
          "data": {
            "image/png": "[encoded data removed]",
            "text/plain": [
              "<Figure size 432x864 with 4 Axes>"
            ]
          },
          "metadata": {
            "needs_background": "light"
          }
        },
        {
          "output_type": "stream",
          "name": "stdout",
          "text": [
            "Accuracy Score: 0.864\n"
          ]
        },
        {
          "output_type": "execute_result",
          "data": {
            "text/plain": [
              "(array([0, 1, 0, ..., 0, 0, 1]), 0.8635)"
            ]
          },
          "metadata": {},
          "execution_count": 23
        }
      ]
    },
    {
      "cell_type": "code",
      "source": [
        "ml(x=df[['clean', 'len_ori', 'len_clean']], y=df.sentiment.map({'positive':1, 'negative':0}))"
      ],
      "metadata": {
        "colab": {
          "base_uri": "https://localhost:8080/",
          "height": 908
        },
        "id": "J_SXGUYI6GbM",
        "outputId": "a7084434-4bda-455d-e834-b4f983cdb7a9"
      },
      "id": "J_SXGUYI6GbM",
      "execution_count": 24,
      "outputs": [
        {
          "output_type": "display_data",
          "data": {
            "image/png": "[encoded data removed]",
            "text/plain": [
              "<Figure size 432x864 with 4 Axes>"
            ]
          },
          "metadata": {
            "needs_background": "light"
          }
        },
        {
          "output_type": "stream",
          "name": "stdout",
          "text": [
            "Accuracy Score: 0.866\n"
          ]
        },
        {
          "output_type": "execute_result",
          "data": {
            "text/plain": [
              "(array([1, 0, 0, ..., 1, 1, 1]), 0.8663)"
            ]
          },
          "metadata": {},
          "execution_count": 24
        }
      ]
    },
    {
      "cell_type": "code",
      "source": [
        "# list(np.linspace(0.1, 1, 10))\n"
      ],
      "metadata": {
        "id": "SdGcLk1-0yuH"
      },
      "id": "SdGcLk1-0yuH",
      "execution_count": 25,
      "outputs": []
    },
    {
      "cell_type": "code",
      "source": [
        "from sklearn.model_selection import GridSearchCV"
      ],
      "metadata": {
        "id": "8juvw8cR1J26"
      },
      "id": "8juvw8cR1J26",
      "execution_count": 26,
      "outputs": []
    },
    {
      "cell_type": "code",
      "source": [
        "x_train, x_test, y_train, y_test = train_test_split(X, y, test_size=0.2)\n",
        "\n",
        "\n",
        "gs = make_pipeline(TfidfVectorizer(), GridSearchCV(MultinomialNB(), \n",
        "                                                   param_grid={'alpha': [x for x in np.linspace(0.1,1,10)]}, cv=4, refit=True)\n",
        "                                                   )\n",
        "\n",
        "gs.fit(x_train, y_train)\n",
        "y_gs = gs.predict(x_test)\n",
        "\n",
        "vectorizer = TfidfVectorizer()\n",
        "mnb = MultinomialNB()\n",
        "pipe = Pipeline(steps = [('vect', vectorizer) , ('multinomial', mnb)])\n",
        "\n",
        "param_grid = {'multinomial__alpha': [x for x in np.linspace(0.1,10,50)]}\n",
        "\n",
        "search = GridSearchCV(pipe, param_grid, n_jobs=5, cv=5, refit=True, verbose =2 )\n",
        "\n",
        "search.fit(x_train, y_train)\n",
        "\n",
        "print(f'GS best params :{search.best_params_}')\n",
        "print(f'GS best score :{search.best_score_}')\n",
        "print(pd.DataFrame(search.cv_results_))\n",
        "\n",
        "# fig, ax = plt.subplots(3,1, figsize=(6,12))\n",
        "\n",
        "# # ax = plt.subplot(311)\n",
        "# cm = confusion_matrix(y_test, y_predict, labels=pipe.classes_)\n",
        "# disp = ConfusionMatrixDisplay(confusion_matrix=cm, display_labels=pipe.classes_)\n",
        "# disp.plot(ax=ax[0])\n",
        "# ax[0].set_title('Confusion Matrix')\n",
        "\n",
        "# # ax1 = plt.subplot(312)\n",
        "# precision, recall, _ = precision_recall_curve(y_test, y_predict)\n",
        "# disp1 = PrecisionRecallDisplay(precision=precision, recall=recall)\n",
        "# disp1.plot(ax=ax[1])\n",
        "# ax[1].set_title('Precision Recall Curve')\n",
        "\n",
        "# # ax2 = plt.subplot(313)\n",
        "# fpr, tpr, thresholds = roc_curve(y_test, y_predict)\n",
        "# roc_auc = auc(fpr, tpr)\n",
        "# disp2 = RocCurveDisplay(fpr=fpr, tpr=tpr, roc_auc=roc_auc, estimator_name='MultinomialNB')\n",
        "# ax[2].set_title(f'ROC AUC Score: {roc_auc_score(y_test, y_predict):.3f}')\n",
        "# disp2.plot(ax=ax[2])\n",
        "# plt.tight_layout()\n",
        "# plt.show()\n",
        "\n",
        "display(f'Accuracy Score: {accuracy_score(y_test, y_gs):.3f}')\n",
        "\n"
      ],
      "metadata": {
        "id": "v_rWA0o2ydDq",
        "colab": {
          "base_uri": "https://localhost:8080/",
          "height": 1000
        },
        "outputId": "177f9091-24bf-4433-c6d9-db6370d66061"
      },
      "id": "v_rWA0o2ydDq",
      "execution_count": 27,
      "outputs": [
        {
          "output_type": "stream",
          "name": "stdout",
          "text": [
            "Fitting 5 folds for each of 50 candidates, totalling 250 fits\n",
            "GS best params :{'multinomial__alpha': 1.1102040816326533}\n",
            "GS best score :0.8634999999999999\n",
            "    mean_fit_time  std_fit_time  ...  std_test_score  rank_test_score\n",
            "0        6.390749      0.802857  ...        0.003073               39\n",
            "1        6.136646      0.319570  ...        0.002834               15\n",
            "2        6.295800      0.310480  ...        0.002781                7\n",
            "3        6.151881      0.416961  ...        0.002906                6\n",
            "4        6.073144      0.277546  ...        0.003002                4\n",
            "5        6.268252      0.279919  ...        0.002796                1\n",
            "6        6.270306      0.405141  ...        0.001816                2\n",
            "7        6.181566      0.275347  ...        0.001693                3\n",
            "8        6.346512      0.339723  ...        0.002002                5\n",
            "9        6.236724      0.188609  ...        0.002140                8\n",
            "10       6.329656      0.528260  ...        0.002598                9\n",
            "11       6.322232      0.245573  ...        0.002625               12\n",
            "12       6.440485      0.314244  ...        0.002592               13\n",
            "13       6.206243      0.155577  ...        0.002278               11\n",
            "14       6.477083      0.441995  ...        0.002474               10\n",
            "15       6.010510      0.352331  ...        0.002283               13\n",
            "16       6.116149      0.599712  ...        0.002418               16\n",
            "17       6.193344      0.298754  ...        0.002189               17\n",
            "18       6.333974      0.423898  ...        0.002082               18\n",
            "19       6.163921      0.370699  ...        0.002379               20\n",
            "20       6.225089      0.316089  ...        0.002417               19\n",
            "21       6.208926      0.243369  ...        0.002461               21\n",
            "22       6.229215      0.190414  ...        0.002662               22\n",
            "23       6.322718      0.200889  ...        0.002699               23\n",
            "24       6.218326      0.164673  ...        0.002763               24\n",
            "25       6.242944      0.448821  ...        0.002644               26\n",
            "26       6.238521      0.289176  ...        0.002688               25\n",
            "27       6.366512      0.093079  ...        0.002700               27\n",
            "28       6.377062      0.281971  ...        0.002532               28\n",
            "29       6.094481      0.170729  ...        0.002661               29\n",
            "30       6.441040      0.342514  ...        0.002821               30\n",
            "31       5.963199      0.321723  ...        0.002730               32\n",
            "32       6.475409      0.374343  ...        0.002818               31\n",
            "33       6.239840      0.365521  ...        0.003063               34\n",
            "34       6.244535      0.287568  ...        0.003112               33\n",
            "35       6.310021      0.364785  ...        0.003125               35\n",
            "36       6.336729      0.354086  ...        0.003254               36\n",
            "37       6.216167      0.441044  ...        0.003170               37\n",
            "38       6.178657      0.359342  ...        0.003155               38\n",
            "39       6.294989      0.260008  ...        0.003075               40\n",
            "40       6.267816      0.494027  ...        0.003048               41\n",
            "41       6.182364      0.314168  ...        0.003150               42\n",
            "42       6.265404      0.107498  ...        0.003139               43\n",
            "43       6.149959      0.282300  ...        0.003118               44\n",
            "44       6.345338      0.271069  ...        0.002973               46\n",
            "45       6.228509      0.204735  ...        0.003117               44\n",
            "46       6.438360      0.222983  ...        0.002954               48\n",
            "47       6.305628      0.512740  ...        0.002845               47\n",
            "48       6.175943      0.494987  ...        0.002925               49\n",
            "49       5.417446      0.948133  ...        0.002791               50\n",
            "\n",
            "[50 rows x 14 columns]\n"
          ]
        },
        {
          "output_type": "display_data",
          "data": {
            "application/vnd.google.colaboratory.intrinsic+json": {
              "type": "string"
            },
            "text/plain": [
              "'Accuracy Score: 0.866'"
            ]
          },
          "metadata": {}
        }
      ]
    },
    {
      "cell_type": "code",
      "source": [
        "grid_result = pd.DataFrame(search.cv_results_)\n",
        "grid_result[grid_result['rank_test_score'] <= 5].sort_values('rank_test_score')[['rank_test_score','param_multinomial__alpha','mean_test_score']]"
      ],
      "metadata": {
        "colab": {
          "base_uri": "https://localhost:8080/",
          "height": 206
        },
        "id": "7QpeElHAyd1R",
        "outputId": "aa1a687f-a169-4f0c-88eb-f7f6e3f7ef71"
      },
      "id": "7QpeElHAyd1R",
      "execution_count": 28,
      "outputs": [
        {
          "output_type": "execute_result",
          "data": {
            "text/html": [
              "\n",
              "  <div id=\"df-1d816265-e9bd-4323-b74f-7d8d528e5858\">\n",
              "    <div class=\"colab-df-container\">\n",
              "      <div>\n",
              "<style scoped>\n",
              "    .dataframe tbody tr th:only-of-type {\n",
              "        vertical-align: middle;\n",
              "    }\n",
              "\n",
              "    .dataframe tbody tr th {\n",
              "        vertical-align: top;\n",
              "    }\n",
              "\n",
              "    .dataframe thead th {\n",
              "        text-align: right;\n",
              "    }\n",
              "</style>\n",
              "<table border=\"1\" class=\"dataframe\">\n",
              "  <thead>\n",
              "    <tr style=\"text-align: right;\">\n",
              "      <th></th>\n",
              "      <th>rank_test_score</th>\n",
              "      <th>param_multinomial__alpha</th>\n",
              "      <th>mean_test_score</th>\n",
              "    </tr>\n",
              "  </thead>\n",
              "  <tbody>\n",
              "    <tr>\n",
              "      <th>5</th>\n",
              "      <td>1</td>\n",
              "      <td>1.110204</td>\n",
              "      <td>0.863500</td>\n",
              "    </tr>\n",
              "    <tr>\n",
              "      <th>6</th>\n",
              "      <td>2</td>\n",
              "      <td>1.312245</td>\n",
              "      <td>0.863175</td>\n",
              "    </tr>\n",
              "    <tr>\n",
              "      <th>7</th>\n",
              "      <td>3</td>\n",
              "      <td>1.514286</td>\n",
              "      <td>0.863050</td>\n",
              "    </tr>\n",
              "    <tr>\n",
              "      <th>4</th>\n",
              "      <td>4</td>\n",
              "      <td>0.908163</td>\n",
              "      <td>0.862950</td>\n",
              "    </tr>\n",
              "    <tr>\n",
              "      <th>8</th>\n",
              "      <td>5</td>\n",
              "      <td>1.716327</td>\n",
              "      <td>0.862850</td>\n",
              "    </tr>\n",
              "  </tbody>\n",
              "</table>\n",
              "</div>\n",
              "      <button class=\"colab-df-convert\" onclick=\"convertToInteractive('df-1d816265-e9bd-4323-b74f-7d8d528e5858')\"\n",
              "              title=\"Convert this dataframe to an interactive table.\"\n",
              "              style=\"display:none;\">\n",
              "        \n",
              "  <svg xmlns=\"http://www.w3.org/2000/svg\" height=\"24px\"viewBox=\"0 0 24 24\"\n",
              "       width=\"24px\">\n",
              "    <path d=\"M0 0h24v24H0V0z\" fill=\"none\"/>\n",
              "    <path d=\"M18.56 5.44l.94 2.06.94-2.06 2.06-.94-2.06-.94-.94-2.06-.94 2.06-2.06.94zm-11 1L8.5 8.5l.94-2.06 2.06-.94-2.06-.94L8.5 2.5l-.94 2.06-2.06.94zm10 10l.94 2.06.94-2.06 2.06-.94-2.06-.94-.94-2.06-.94 2.06-2.06.94z\"/><path d=\"M17.41 7.96l-1.37-1.37c-.4-.4-.92-.59-1.43-.59-.52 0-1.04.2-1.43.59L10.3 9.45l-7.72 7.72c-.78.78-.78 2.05 0 2.83L4 21.41c.39.39.9.59 1.41.59.51 0 1.02-.2 1.41-.59l7.78-7.78 2.81-2.81c.8-.78.8-2.07 0-2.86zM5.41 20L4 18.59l7.72-7.72 1.47 1.35L5.41 20z\"/>\n",
              "  </svg>\n",
              "      </button>\n",
              "      \n",
              "  <style>\n",
              "    .colab-df-container {\n",
              "      display:flex;\n",
              "      flex-wrap:wrap;\n",
              "      gap: 12px;\n",
              "    }\n",
              "\n",
              "    .colab-df-convert {\n",
              "      background-color: #E8F0FE;\n",
              "      border: none;\n",
              "      border-radius: 50%;\n",
              "      cursor: pointer;\n",
              "      display: none;\n",
              "      fill: #1967D2;\n",
              "      height: 32px;\n",
              "      padding: 0 0 0 0;\n",
              "      width: 32px;\n",
              "    }\n",
              "\n",
              "    .colab-df-convert:hover {\n",
              "      background-color: #E2EBFA;\n",
              "      box-shadow: 0px 1px 2px rgba(60, 64, 67, 0.3), 0px 1px 3px 1px rgba(60, 64, 67, 0.15);\n",
              "      fill: #174EA6;\n",
              "    }\n",
              "\n",
              "    [theme=dark] .colab-df-convert {\n",
              "      background-color: #3B4455;\n",
              "      fill: #D2E3FC;\n",
              "    }\n",
              "\n",
              "    [theme=dark] .colab-df-convert:hover {\n",
              "      background-color: #434B5C;\n",
              "      box-shadow: 0px 1px 3px 1px rgba(0, 0, 0, 0.15);\n",
              "      filter: drop-shadow(0px 1px 2px rgba(0, 0, 0, 0.3));\n",
              "      fill: #FFFFFF;\n",
              "    }\n",
              "  </style>\n",
              "\n",
              "      <script>\n",
              "        const buttonEl =\n",
              "          document.querySelector('#df-1d816265-e9bd-4323-b74f-7d8d528e5858 button.colab-df-convert');\n",
              "        buttonEl.style.display =\n",
              "          google.colab.kernel.accessAllowed ? 'block' : 'none';\n",
              "\n",
              "        async function convertToInteractive(key) {\n",
              "          const element = document.querySelector('#df-1d816265-e9bd-4323-b74f-7d8d528e5858');\n",
              "          const dataTable =\n",
              "            await google.colab.kernel.invokeFunction('convertToInteractive',\n",
              "                                                     [key], {});\n",
              "          if (!dataTable) return;\n",
              "\n",
              "          const docLinkHtml = 'Like what you see? Visit the ' +\n",
              "            '<a target=\"_blank\" href=https://colab.research.google.com/notebooks/data_table.ipynb>data table notebook</a>'\n",
              "            + ' to learn more about interactive tables.';\n",
              "          element.innerHTML = '';\n",
              "          dataTable['output_type'] = 'display_data';\n",
              "          await google.colab.output.renderOutput(dataTable, element);\n",
              "          const docLink = document.createElement('div');\n",
              "          docLink.innerHTML = docLinkHtml;\n",
              "          element.appendChild(docLink);\n",
              "        }\n",
              "      </script>\n",
              "    </div>\n",
              "  </div>\n",
              "  "
            ],
            "text/plain": [
              "   rank_test_score param_multinomial__alpha  mean_test_score\n",
              "5                1                 1.110204         0.863500\n",
              "6                2                 1.312245         0.863175\n",
              "7                3                 1.514286         0.863050\n",
              "4                4                 0.908163         0.862950\n",
              "8                5                 1.716327         0.862850"
            ]
          },
          "metadata": {},
          "execution_count": 28
        }
      ]
    }
  ],
  "metadata": {
    "kernelspec": {
      "display_name": "Python 3",
      "language": "python",
      "name": "python3"
    },
    "language_info": {
      "codemirror_mode": {
        "name": "ipython",
        "version": 3
      },
      "file_extension": ".py",
      "mimetype": "text/x-python",
      "name": "python",
      "nbconvert_exporter": "python",
      "pygments_lexer": "ipython3",
      "version": "3.8.8"
    },
    "colab": {
      "name": "NLP - IMDB Dataset.ipynb",
      "provenance": [],
      "collapsed_sections": [],
      "machine_shape": "hm"
    },
    "accelerator": "GPU"
  },
  "nbformat": 4,
  "nbformat_minor": 5
}